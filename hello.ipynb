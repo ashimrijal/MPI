{
 "cells": [
  {
   "cell_type": "code",
   "execution_count": 1,
   "metadata": {
    "collapsed": false
   },
   "outputs": [
    {
     "data": {
      "text/plain": [
       "[0, 1, 2, 3]"
      ]
     },
     "execution_count": 1,
     "metadata": {},
     "output_type": "execute_result"
    }
   ],
   "source": [
    "from ipyparallel import Client\n",
    "cluster = Client(profile='mpi')\n",
    "cluster.block = True  # use synchronous computations\n",
    "dview = cluster[:]\n",
    "dview.activate()      # enable magics\n",
    "\n",
    "cluster.ids"
   ]
  },
  {
   "cell_type": "code",
   "execution_count": 2,
   "metadata": {
    "collapsed": true
   },
   "outputs": [],
   "source": [
    "%%px\n",
    "from mpi4py import MPI\n",
    "#=============================================================================\n",
    "comm = MPI.COMM_WORLD\n",
    "\n",
    "size = comm.Get_size()\n",
    "rank = comm.Get_rank()\n",
    "name = MPI.Get_processor_name()\n",
    "#============================================================================="
   ]
  },
  {
   "cell_type": "code",
   "execution_count": 3,
   "metadata": {
    "collapsed": false
   },
   "outputs": [
    {
     "name": "stdout",
     "output_type": "stream",
     "text": [
      "[stdout:0] \n",
      "Hello, World! I am process 3 of 4 on arijal.\n",
      "\n",
      "[stdout:1] \n",
      "Hello, World! I am process 2 of 4 on arijal.\n",
      "\n",
      "[stdout:2] \n",
      "Hello, World! I am process 1 of 4 on arijal.\n",
      "\n",
      "[stdout:3] \n",
      "Hello, World! I am process 0 of 4 on arijal.\n",
      "\n"
     ]
    }
   ],
   "source": [
    "%%px\n",
    "#% Hello world\n",
    "print(\"Hello, World! I am process %d of %d on %s.\\n\" % (rank, size, name))"
   ]
  },
  {
   "cell_type": "code",
   "execution_count": null,
   "metadata": {
    "collapsed": true
   },
   "outputs": [],
   "source": []
  }
 ],
 "metadata": {
  "kernelspec": {
   "display_name": "Python 3",
   "language": "python",
   "name": "python3"
  },
  "language_info": {
   "codemirror_mode": {
    "name": "ipython",
    "version": 3
   },
   "file_extension": ".py",
   "mimetype": "text/x-python",
   "name": "python",
   "nbconvert_exporter": "python",
   "pygments_lexer": "ipython3",
   "version": "3.5.2"
  }
 },
 "nbformat": 4,
 "nbformat_minor": 0
}
